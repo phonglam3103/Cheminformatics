{
 "cells": [
  {
   "cell_type": "code",
   "execution_count": 2,
   "id": "3fb3ae61",
   "metadata": {
    "colab": {
     "base_uri": "https://localhost:8080/"
    },
    "id": "3fb3ae61",
    "outputId": "9b7ed988-60c2-441f-97d0-d6c18d4c1308"
   },
   "outputs": [
    {
     "name": "stdout",
     "output_type": "stream",
     "text": [
      "2022.03.5\n"
     ]
    }
   ],
   "source": [
    "import rdkit\n",
    "from rdkit import Chem\n",
    "from rdkit.Chem import Draw\n",
    "from rdkit.Chem.Draw import IPythonConsole\n",
    "\n",
    "#import chembl_structure_pipeline\n",
    "\n",
    "print(rdkit.__version__)\n",
    "#print(chembl_structure_pipeline.__version__)"
   ]
  },
  {
   "cell_type": "code",
   "execution_count": 3,
   "id": "d33f9072",
   "metadata": {
    "id": "d33f9072"
   },
   "outputs": [],
   "source": [
    "from rdkit.Chem import PandasTools\n",
    "from rdkit.Chem import Descriptors\n",
    "from rdkit.Chem import rdmolops           #Additional molecular properties\n",
    "from rdkit.Chem import rdmolfiles\n",
    "from rdkit.Chem.rdmolfiles import MolFromSmiles  \n",
    "from rdkit.Chem.MolStandardize import rdMolStandardize\n",
    "\n",
    "from rdkit import RDLogger\n",
    "RDLogger.DisableLog('rdApp.info')"
   ]
  },
  {
   "cell_type": "code",
   "execution_count": 4,
   "id": "b4fa9417",
   "metadata": {
    "id": "b4fa9417"
   },
   "outputs": [],
   "source": [
    "import pandas as pd\n",
    "import seaborn as sns"
   ]
  },
  {
   "cell_type": "code",
   "execution_count": 13,
   "id": "fbffe724",
   "metadata": {
    "colab": {
     "base_uri": "https://localhost:8080/"
    },
    "id": "fbffe724",
    "outputId": "e25d9fdc-04a4-4840-ef9e-a8de04be394b"
   },
   "outputs": [],
   "source": [
    "data = pd.read_csv(\"Missing-Data-Nghia.csv\")\n",
    "data.shape\n",
    "data.to_csv('_out.csv')\n",
    "#data()"
   ]
  },
  {
   "cell_type": "markdown",
   "id": "e7H68kukmtpq",
   "metadata": {
    "id": "e7H68kukmtpq"
   },
   "source": [
    "# Cách 2: Cleanup with RDKit"
   ]
  },
  {
   "cell_type": "code",
   "execution_count": 14,
   "id": "aa216067",
   "metadata": {
    "colab": {
     "base_uri": "https://localhost:8080/",
     "height": 253
    },
    "id": "aa216067",
    "outputId": "c8e0a131-44cb-4684-f8f3-00f5b2ea8106"
   },
   "outputs": [],
   "source": [
    "smis = data[\"SMILES\"]\n",
    "uncharger = rdMolStandardize.Uncharger()\n",
    "ms=[]\n",
    "for smi in smis:\n",
    "    m = MolFromSmiles(smi)\n",
    "    \n",
    "    # Sanitize\n",
    "    Chem.SanitizeMol(m, sanitizeOps = (Chem.SANITIZE_ALL^Chem.SANITIZE_CLEANUP^Chem.SANITIZE_PROPERTIES))\n",
    "    \n",
    "    # Normalize functional groups\n",
    "    cm = rdMolStandardize.Normalize(m)\n",
    "\n",
    "    # Get parent and uncharge\n",
    "    #im = uncharger.uncharge(rdMolStandardize.FragmentParent(cm))\n",
    "\n",
    "    # Reionization (if needed)\n",
    "    #rm = rdMolStandardize.Reionize(im)\n",
    "    \n",
    "    # Append to list\n",
    "    ms.append(Chem.MolToSmiles(cm))\n",
    "    \n",
    "    #print(smi)\n",
    "    #print(Chem.MolToSmiles(m))\n",
    "    #print(Chem.MolToSmiles(im))\n",
    "    \n",
    "#Draw.MolsToGridImage(ms,molsPerRow=2,legends=['before','uncharged parent']*(len(ms)//2), subImgSize=(350,300))"
   ]
  },
  {
   "cell_type": "markdown",
   "id": "0o1RaEwwsYtx",
   "metadata": {
    "id": "0o1RaEwwsYtx"
   },
   "source": [
    "# Check list sau khi standardize"
   ]
  },
  {
   "cell_type": "code",
   "execution_count": 15,
   "id": "6a6e55d9",
   "metadata": {
    "colab": {
     "base_uri": "https://localhost:8080/"
    },
    "id": "6a6e55d9",
    "outputId": "917f1a39-fb6f-46bc-8f1b-c77ed1f62e5a"
   },
   "outputs": [
    {
     "data": {
      "text/plain": [
       "10"
      ]
     },
     "execution_count": 15,
     "metadata": {},
     "output_type": "execute_result"
    }
   ],
   "source": [
    "# Đủ SMILES\n",
    "len(ms)"
   ]
  },
  {
   "cell_type": "code",
   "execution_count": 16,
   "id": "78336e6c",
   "metadata": {
    "id": "78336e6c"
   },
   "outputs": [],
   "source": [
    "data[\"SMILES_standardized\"] = ms"
   ]
  },
  {
   "cell_type": "code",
   "execution_count": 17,
   "id": "3bd1cdbd",
   "metadata": {
    "colab": {
     "base_uri": "https://localhost:8080/",
     "height": 984
    },
    "id": "3bd1cdbd",
    "outputId": "f676d576-906f-4bdb-bafe-5b62555eae92"
   },
   "outputs": [
    {
     "data": {
      "text/html": [
       "<div>\n",
       "<style scoped>\n",
       "    .dataframe tbody tr th:only-of-type {\n",
       "        vertical-align: middle;\n",
       "    }\n",
       "\n",
       "    .dataframe tbody tr th {\n",
       "        vertical-align: top;\n",
       "    }\n",
       "\n",
       "    .dataframe thead th {\n",
       "        text-align: right;\n",
       "    }\n",
       "</style>\n",
       "<table border=\"1\" class=\"dataframe\">\n",
       "  <thead>\n",
       "    <tr style=\"text-align: right;\">\n",
       "      <th></th>\n",
       "      <th>Index</th>\n",
       "      <th>Authors</th>\n",
       "      <th>ID</th>\n",
       "      <th>Name</th>\n",
       "      <th>SMILES</th>\n",
       "      <th>MW</th>\n",
       "      <th>Subclass</th>\n",
       "      <th>Origin</th>\n",
       "      <th>Glucosidase (mg/ml)</th>\n",
       "      <th>Acarbose</th>\n",
       "      <th>...</th>\n",
       "      <th>Mechanism.1</th>\n",
       "      <th>Acarbose.2</th>\n",
       "      <th>Test.2</th>\n",
       "      <th>Ratio</th>\n",
       "      <th>Acarbose.3</th>\n",
       "      <th>Test.3</th>\n",
       "      <th>Ratio.1</th>\n",
       "      <th>Note</th>\n",
       "      <th>Both enzyme</th>\n",
       "      <th>SMILES_standardized</th>\n",
       "    </tr>\n",
       "  </thead>\n",
       "  <tbody>\n",
       "    <tr>\n",
       "      <th>0</th>\n",
       "      <td>92</td>\n",
       "      <td>Uddin, S. et al. (2022)</td>\n",
       "      <td>8.0</td>\n",
       "      <td>naringenin</td>\n",
       "      <td>O=C1CC(C2=CC=C(O)C=C2)OC3=C1C(O)=CC(O)=C3</td>\n",
       "      <td>NaN</td>\n",
       "      <td>Flavanol</td>\n",
       "      <td>Commercial</td>\n",
       "      <td>Chromogenic method</td>\n",
       "      <td>NaN</td>\n",
       "      <td>...</td>\n",
       "      <td>NaN</td>\n",
       "      <td>396.70</td>\n",
       "      <td>647.40</td>\n",
       "      <td>NaN</td>\n",
       "      <td>624.7</td>\n",
       "      <td>121.5</td>\n",
       "      <td>NaN</td>\n",
       "      <td>NaN</td>\n",
       "      <td>yes</td>\n",
       "      <td>O=C1CC(c2ccc(O)cc2)Oc2cc(O)cc(O)c21</td>\n",
       "    </tr>\n",
       "    <tr>\n",
       "      <th>1</th>\n",
       "      <td>92</td>\n",
       "      <td>Uddin, S. et al. (2022)</td>\n",
       "      <td>9.0</td>\n",
       "      <td>Quercetin</td>\n",
       "      <td>OC1=C(C2=CC=C(O)C(O)=C2)OC3=C(C(O)=CC(O)=C3)C1=O</td>\n",
       "      <td>NaN</td>\n",
       "      <td>Flavonol</td>\n",
       "      <td>Commercial</td>\n",
       "      <td>Chromogenic method</td>\n",
       "      <td>NaN</td>\n",
       "      <td>...</td>\n",
       "      <td>NaN</td>\n",
       "      <td>396.70</td>\n",
       "      <td>19.20</td>\n",
       "      <td>NaN</td>\n",
       "      <td>624.7</td>\n",
       "      <td>17.4</td>\n",
       "      <td>NaN</td>\n",
       "      <td>NaN</td>\n",
       "      <td>yes</td>\n",
       "      <td>O=c1c(O)c(-c2ccc(O)c(O)c2)oc2cc(O)cc(O)c12</td>\n",
       "    </tr>\n",
       "    <tr>\n",
       "      <th>2</th>\n",
       "      <td>111</td>\n",
       "      <td>Lyu, Q. et al. (2019)</td>\n",
       "      <td>NaN</td>\n",
       "      <td>Quercetin</td>\n",
       "      <td>OC1=C(C2=CC=C(O)C(O)=C2)OC3=C(C(O)=CC(O)=C3)C1=O</td>\n",
       "      <td>NaN</td>\n",
       "      <td>Flavonol</td>\n",
       "      <td>Commercial</td>\n",
       "      <td>Chromogenic method</td>\n",
       "      <td>2.44</td>\n",
       "      <td>...</td>\n",
       "      <td>NaN</td>\n",
       "      <td>NaN</td>\n",
       "      <td>NaN</td>\n",
       "      <td>NaN</td>\n",
       "      <td>NaN</td>\n",
       "      <td>NaN</td>\n",
       "      <td>NaN</td>\n",
       "      <td>NaN</td>\n",
       "      <td>no</td>\n",
       "      <td>O=c1c(O)c(-c2ccc(O)c(O)c2)oc2cc(O)cc(O)c12</td>\n",
       "    </tr>\n",
       "    <tr>\n",
       "      <th>3</th>\n",
       "      <td>111</td>\n",
       "      <td>Lyu, Q. et al. (2019)</td>\n",
       "      <td>NaN</td>\n",
       "      <td>Isorhamnetin</td>\n",
       "      <td>COC1=C(C=CC(=C1)C2=C(C(=O)C3=C(C=C(C=C3O2)O)O)O)O</td>\n",
       "      <td>NaN</td>\n",
       "      <td>Flavonol</td>\n",
       "      <td>Commercial</td>\n",
       "      <td>Chromogenic method</td>\n",
       "      <td>2.44</td>\n",
       "      <td>...</td>\n",
       "      <td>NaN</td>\n",
       "      <td>NaN</td>\n",
       "      <td>NaN</td>\n",
       "      <td>NaN</td>\n",
       "      <td>NaN</td>\n",
       "      <td>NaN</td>\n",
       "      <td>NaN</td>\n",
       "      <td>NaN</td>\n",
       "      <td>no</td>\n",
       "      <td>COc1cc(-c2oc3cc(O)cc(O)c3c(=O)c2O)ccc1O</td>\n",
       "    </tr>\n",
       "    <tr>\n",
       "      <th>4</th>\n",
       "      <td>111</td>\n",
       "      <td>Lyu, Q. et al. (2019)</td>\n",
       "      <td>NaN</td>\n",
       "      <td>Kaempferol</td>\n",
       "      <td>C1=CC(=CC=C1C2=C(C(=O)C3=C(C=C(C=C3O2)O)O)O)O</td>\n",
       "      <td>NaN</td>\n",
       "      <td>Flavonol</td>\n",
       "      <td>Commercial</td>\n",
       "      <td>Chromogenic method</td>\n",
       "      <td>2.44</td>\n",
       "      <td>...</td>\n",
       "      <td>NaN</td>\n",
       "      <td>NaN</td>\n",
       "      <td>NaN</td>\n",
       "      <td>NaN</td>\n",
       "      <td>NaN</td>\n",
       "      <td>NaN</td>\n",
       "      <td>NaN</td>\n",
       "      <td>NaN</td>\n",
       "      <td>no</td>\n",
       "      <td>O=c1c(O)c(-c2ccc(O)cc2)oc2cc(O)cc(O)c12</td>\n",
       "    </tr>\n",
       "    <tr>\n",
       "      <th>5</th>\n",
       "      <td>116</td>\n",
       "      <td>Oueslati, Mohamed Habib et al. (2020)</td>\n",
       "      <td>3.0</td>\n",
       "      <td>kaempferol‑3‑O‑apiofuranosyl‑7‑O‑rhamnopyranosyl</td>\n",
       "      <td>O=C1C2=C(O)C=C(O[C@@H]3O[C@H](C)[C@@H](O)[C@H]...</td>\n",
       "      <td>NaN</td>\n",
       "      <td>Flavonol</td>\n",
       "      <td>NaN</td>\n",
       "      <td>Chromogenic method</td>\n",
       "      <td>NaN</td>\n",
       "      <td>...</td>\n",
       "      <td>NaN</td>\n",
       "      <td>195.21</td>\n",
       "      <td>276.00</td>\n",
       "      <td>NaN</td>\n",
       "      <td>NaN</td>\n",
       "      <td>NaN</td>\n",
       "      <td>NaN</td>\n",
       "      <td>NaN</td>\n",
       "      <td>no</td>\n",
       "      <td>C[C@H]1O[C@@H](Oc2cc(O)c3c(=O)c(O[C@H]4OC[C@@]...</td>\n",
       "    </tr>\n",
       "    <tr>\n",
       "      <th>6</th>\n",
       "      <td>138</td>\n",
       "      <td>Tang, H. et al. (2020)</td>\n",
       "      <td>22.0</td>\n",
       "      <td>calycosin</td>\n",
       "      <td>COC1=C(C=C(C=C1)C2=COC3=C(C2=O)C=CC(=C3)O)O</td>\n",
       "      <td>NaN</td>\n",
       "      <td>Isoflavonoid</td>\n",
       "      <td>Commercial</td>\n",
       "      <td>Chromogenic method</td>\n",
       "      <td>NaN</td>\n",
       "      <td>...</td>\n",
       "      <td>NaN</td>\n",
       "      <td>425.00</td>\n",
       "      <td>28.38</td>\n",
       "      <td>0.07</td>\n",
       "      <td>NaN</td>\n",
       "      <td>NaN</td>\n",
       "      <td>NaN</td>\n",
       "      <td>NaN</td>\n",
       "      <td>no</td>\n",
       "      <td>COc1ccc(-c2coc3cc(O)ccc3c2=O)cc1O</td>\n",
       "    </tr>\n",
       "    <tr>\n",
       "      <th>7</th>\n",
       "      <td>271</td>\n",
       "      <td>Toh, Z. S. et al. (2015)</td>\n",
       "      <td>NaN</td>\n",
       "      <td>Dracoflavan B (A type isomer)</td>\n",
       "      <td>O[C@@H]1[C@@H](C(C(O[C@H](C2=CC=CC=C2)CC3)=C3C...</td>\n",
       "      <td>NaN</td>\n",
       "      <td>Anthocyanidin</td>\n",
       "      <td>Daemonorops draco</td>\n",
       "      <td>NaN</td>\n",
       "      <td>NaN</td>\n",
       "      <td>...</td>\n",
       "      <td>mixed</td>\n",
       "      <td>NaN</td>\n",
       "      <td>NaN</td>\n",
       "      <td>NaN</td>\n",
       "      <td>28.0</td>\n",
       "      <td>23.0</td>\n",
       "      <td>NaN</td>\n",
       "      <td>NaN</td>\n",
       "      <td>no</td>\n",
       "      <td>COc1cc2c(c3c1CC[C@@H](c1ccccc1)O3)[C@H]1c3c(cc...</td>\n",
       "    </tr>\n",
       "    <tr>\n",
       "      <th>8</th>\n",
       "      <td>271</td>\n",
       "      <td>Toh, Z. S. et al. (2015)</td>\n",
       "      <td>NaN</td>\n",
       "      <td>Dracoflavan B (B type isomer)</td>\n",
       "      <td>O[C@H]1[C@H](C(C(O[C@H](C2=CC=CC=C2)CC3)=C3C(O...</td>\n",
       "      <td>NaN</td>\n",
       "      <td>Anthocyanidin</td>\n",
       "      <td>Daemonorops draco</td>\n",
       "      <td>NaN</td>\n",
       "      <td>NaN</td>\n",
       "      <td>...</td>\n",
       "      <td>mixed</td>\n",
       "      <td>NaN</td>\n",
       "      <td>NaN</td>\n",
       "      <td>NaN</td>\n",
       "      <td>28.0</td>\n",
       "      <td>27.0</td>\n",
       "      <td>NaN</td>\n",
       "      <td>NaN</td>\n",
       "      <td>no</td>\n",
       "      <td>COc1cc2c(c3c1CC[C@@H](c1ccccc1)O3)[C@@H]1c3c(c...</td>\n",
       "    </tr>\n",
       "    <tr>\n",
       "      <th>9</th>\n",
       "      <td>271</td>\n",
       "      <td>Toh, Z. S. et al. (2015)</td>\n",
       "      <td>NaN</td>\n",
       "      <td>Galloylated dracoflavan B</td>\n",
       "      <td>O[C@@H]1[C@@H](C(C(O[C@H](C2=CC=CC=C2)CC3)=C3C...</td>\n",
       "      <td>NaN</td>\n",
       "      <td>Anthocyanidin</td>\n",
       "      <td>Semi-synthesis</td>\n",
       "      <td>NaN</td>\n",
       "      <td>NaN</td>\n",
       "      <td>...</td>\n",
       "      <td>unstated</td>\n",
       "      <td>NaN</td>\n",
       "      <td>NaN</td>\n",
       "      <td>NaN</td>\n",
       "      <td>28.0</td>\n",
       "      <td>12.0</td>\n",
       "      <td>NaN</td>\n",
       "      <td>NaN</td>\n",
       "      <td>no</td>\n",
       "      <td>COc1cc2c(c3c1CC[C@@H](c1ccccc1)O3)[C@H]1c3c(cc...</td>\n",
       "    </tr>\n",
       "  </tbody>\n",
       "</table>\n",
       "<p>10 rows × 25 columns</p>\n",
       "</div>"
      ],
      "text/plain": [
       "   Index                                Authors    ID  \\\n",
       "0     92                Uddin, S. et al. (2022)   8.0   \n",
       "1     92                Uddin, S. et al. (2022)   9.0   \n",
       "2    111                  Lyu, Q. et al. (2019)   NaN   \n",
       "3    111                  Lyu, Q. et al. (2019)   NaN   \n",
       "4    111                  Lyu, Q. et al. (2019)   NaN   \n",
       "5    116  Oueslati, Mohamed Habib et al. (2020)   3.0   \n",
       "6    138                 Tang, H. et al. (2020)  22.0   \n",
       "7    271               Toh, Z. S. et al. (2015)   NaN   \n",
       "8    271               Toh, Z. S. et al. (2015)   NaN   \n",
       "9    271               Toh, Z. S. et al. (2015)   NaN   \n",
       "\n",
       "                                               Name  \\\n",
       "0                                        naringenin   \n",
       "1                                         Quercetin   \n",
       "2                                         Quercetin   \n",
       "3                                      Isorhamnetin   \n",
       "4                                        Kaempferol   \n",
       "5  kaempferol‑3‑O‑apiofuranosyl‑7‑O‑rhamnopyranosyl   \n",
       "6                                         calycosin   \n",
       "7                     Dracoflavan B (A type isomer)   \n",
       "8                     Dracoflavan B (B type isomer)   \n",
       "9                         Galloylated dracoflavan B   \n",
       "\n",
       "                                              SMILES  MW       Subclass  \\\n",
       "0          O=C1CC(C2=CC=C(O)C=C2)OC3=C1C(O)=CC(O)=C3 NaN       Flavanol   \n",
       "1   OC1=C(C2=CC=C(O)C(O)=C2)OC3=C(C(O)=CC(O)=C3)C1=O NaN       Flavonol   \n",
       "2   OC1=C(C2=CC=C(O)C(O)=C2)OC3=C(C(O)=CC(O)=C3)C1=O NaN       Flavonol   \n",
       "3  COC1=C(C=CC(=C1)C2=C(C(=O)C3=C(C=C(C=C3O2)O)O)O)O NaN       Flavonol   \n",
       "4      C1=CC(=CC=C1C2=C(C(=O)C3=C(C=C(C=C3O2)O)O)O)O NaN       Flavonol   \n",
       "5  O=C1C2=C(O)C=C(O[C@@H]3O[C@H](C)[C@@H](O)[C@H]... NaN       Flavonol   \n",
       "6        COC1=C(C=C(C=C1)C2=COC3=C(C2=O)C=CC(=C3)O)O NaN   Isoflavonoid   \n",
       "7  O[C@@H]1[C@@H](C(C(O[C@H](C2=CC=CC=C2)CC3)=C3C... NaN  Anthocyanidin   \n",
       "8  O[C@H]1[C@H](C(C(O[C@H](C2=CC=CC=C2)CC3)=C3C(O... NaN  Anthocyanidin   \n",
       "9  O[C@@H]1[C@@H](C(C(O[C@H](C2=CC=CC=C2)CC3)=C3C... NaN  Anthocyanidin   \n",
       "\n",
       "              Origin Glucosidase (mg/ml)  Acarbose  ...  Mechanism.1  \\\n",
       "0         Commercial  Chromogenic method       NaN  ...          NaN   \n",
       "1         Commercial  Chromogenic method       NaN  ...          NaN   \n",
       "2         Commercial  Chromogenic method      2.44  ...          NaN   \n",
       "3         Commercial  Chromogenic method      2.44  ...          NaN   \n",
       "4         Commercial  Chromogenic method      2.44  ...          NaN   \n",
       "5                NaN  Chromogenic method       NaN  ...          NaN   \n",
       "6         Commercial  Chromogenic method       NaN  ...          NaN   \n",
       "7  Daemonorops draco                 NaN       NaN  ...        mixed   \n",
       "8  Daemonorops draco                 NaN       NaN  ...        mixed   \n",
       "9     Semi-synthesis                 NaN       NaN  ...     unstated   \n",
       "\n",
       "  Acarbose.2  Test.2  Ratio  Acarbose.3 Test.3  Ratio.1  Note  Both enzyme  \\\n",
       "0     396.70  647.40    NaN       624.7  121.5      NaN   NaN          yes   \n",
       "1     396.70   19.20    NaN       624.7   17.4      NaN   NaN          yes   \n",
       "2        NaN     NaN    NaN         NaN    NaN      NaN   NaN           no   \n",
       "3        NaN     NaN    NaN         NaN    NaN      NaN   NaN           no   \n",
       "4        NaN     NaN    NaN         NaN    NaN      NaN   NaN           no   \n",
       "5     195.21  276.00    NaN         NaN    NaN      NaN   NaN           no   \n",
       "6     425.00   28.38   0.07         NaN    NaN      NaN   NaN           no   \n",
       "7        NaN     NaN    NaN        28.0   23.0      NaN   NaN           no   \n",
       "8        NaN     NaN    NaN        28.0   27.0      NaN   NaN           no   \n",
       "9        NaN     NaN    NaN        28.0   12.0      NaN   NaN           no   \n",
       "\n",
       "                                 SMILES_standardized  \n",
       "0                O=C1CC(c2ccc(O)cc2)Oc2cc(O)cc(O)c21  \n",
       "1         O=c1c(O)c(-c2ccc(O)c(O)c2)oc2cc(O)cc(O)c12  \n",
       "2         O=c1c(O)c(-c2ccc(O)c(O)c2)oc2cc(O)cc(O)c12  \n",
       "3            COc1cc(-c2oc3cc(O)cc(O)c3c(=O)c2O)ccc1O  \n",
       "4            O=c1c(O)c(-c2ccc(O)cc2)oc2cc(O)cc(O)c12  \n",
       "5  C[C@H]1O[C@@H](Oc2cc(O)c3c(=O)c(O[C@H]4OC[C@@]...  \n",
       "6                  COc1ccc(-c2coc3cc(O)ccc3c2=O)cc1O  \n",
       "7  COc1cc2c(c3c1CC[C@@H](c1ccccc1)O3)[C@H]1c3c(cc...  \n",
       "8  COc1cc2c(c3c1CC[C@@H](c1ccccc1)O3)[C@@H]1c3c(c...  \n",
       "9  COc1cc2c(c3c1CC[C@@H](c1ccccc1)O3)[C@H]1c3c(cc...  \n",
       "\n",
       "[10 rows x 25 columns]"
      ]
     },
     "execution_count": 17,
     "metadata": {},
     "output_type": "execute_result"
    }
   ],
   "source": [
    "data.head(20)"
   ]
  },
  {
   "cell_type": "code",
   "execution_count": 18,
   "id": "GEghyBazSKKJ",
   "metadata": {
    "colab": {
     "base_uri": "https://localhost:8080/"
    },
    "id": "GEghyBazSKKJ",
    "outputId": "33da06cb-4d1b-441e-8dd9-e219c95704d5"
   },
   "outputs": [
    {
     "data": {
      "text/plain": [
       "Index(['Index', 'Authors', 'ID', 'Name', 'SMILES', 'MW', 'Subclass', 'Origin',\n",
       "       'Glucosidase (mg/ml)', 'Acarbose', 'Test', 'Mechanism',\n",
       "       'Amylase (mg/mL)', 'Acarbose.1', 'Test.1', 'Mechanism.1', 'Acarbose.2',\n",
       "       'Test.2', 'Ratio', 'Acarbose.3', 'Test.3', 'Ratio.1', 'Note',\n",
       "       'Both enzyme', 'SMILES_standardized'],\n",
       "      dtype='object')"
      ]
     },
     "execution_count": 18,
     "metadata": {},
     "output_type": "execute_result"
    }
   ],
   "source": [
    "data.columns"
   ]
  },
  {
   "cell_type": "code",
   "execution_count": 21,
   "id": "691ae2df",
   "metadata": {
    "id": "691ae2df"
   },
   "outputs": [],
   "source": [
    "data.to_csv('Check_out.csv', index = False, columns = ['Index', 'Authors', 'ID', 'Name', 'SMILES_standardized', 'MW', 'Subclass', 'Origin',\n",
    "       'Glucosidase (mg/ml)', 'Acarbose', 'Test', 'Mechanism', 'Amylase (mg/mL)',\n",
    "       'Acarbose.1', 'Test.1', 'Mechanism.1', 'Acarbose.2', 'Test.2', 'Ratio',\n",
    "       'Acarbose.3', 'Test.3', 'Ratio.1', 'Note', 'Both enzyme',\n",
    "       ])"
   ]
  },
  {
   "cell_type": "code",
   "execution_count": null,
   "id": "4aa7c40d",
   "metadata": {
    "id": "4aa7c40d"
   },
   "outputs": [],
   "source": []
  }
 ],
 "metadata": {
  "colab": {
   "collapsed_sections": [],
   "provenance": [],
   "toc_visible": true
  },
  "kernelspec": {
   "display_name": "Python 3 (ipykernel)",
   "language": "python",
   "name": "python3"
  },
  "language_info": {
   "codemirror_mode": {
    "name": "ipython",
    "version": 3
   },
   "file_extension": ".py",
   "mimetype": "text/x-python",
   "name": "python",
   "nbconvert_exporter": "python",
   "pygments_lexer": "ipython3",
   "version": "3.10.4"
  },
  "toc": {
   "base_numbering": 1,
   "nav_menu": {},
   "number_sections": true,
   "sideBar": true,
   "skip_h1_title": false,
   "title_cell": "Table of Contents",
   "title_sidebar": "Contents",
   "toc_cell": false,
   "toc_position": {},
   "toc_section_display": true,
   "toc_window_display": false
  },
  "vscode": {
   "interpreter": {
    "hash": "8809126b2e3f6bd67afd8dec0aaf136102c3339cf179547b748c69a78a732e29"
   }
  }
 },
 "nbformat": 4,
 "nbformat_minor": 5
}
