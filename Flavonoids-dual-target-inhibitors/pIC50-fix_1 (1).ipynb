{
  "cells": [
    {
      "cell_type": "code",
      "execution_count": 39,
      "metadata": {
        "id": "SS5rO3hcrvTx"
      },
      "outputs": [],
      "source": [
        "import numpy as np\n",
        "import pandas as pd\n",
        "import matplotlib.pyplot as plt\n",
        "import seaborn as sns"
      ]
    },
    {
      "cell_type": "code",
      "execution_count": 40,
      "metadata": {
        "id": "AGuCgCHHsnle"
      },
      "outputs": [],
      "source": [
        "xls = pd.ExcelFile('Report_excel.xlsx')\n",
        "df = pd.read_excel(xls, 'Isoflavo',usecols = ['No.','Name', 'Acarbose.2', 'Test.2','Acarbose.3','Test.3'])\n",
        "df.columns = ['No','Name', '2.Acarbose (AG)', '1.Test (AG)', '4.Acarbose (AM)', '3.Test (AM)']\n",
        "#df = pd.read_excel(xls, 'Flavan-3-ol', usecols = ['Name', 'SMILES_standardized', 'Ratio', 'Ratio.1'])"
      ]
    },
    {
      "cell_type": "code",
      "execution_count": 41,
      "metadata": {
        "colab": {
          "base_uri": "https://localhost:8080/",
          "height": 833
        },
        "id": "CS5sZwpcwMAx",
        "outputId": "e3a4f97f-9793-47cd-d7d5-b0bdd48649a3"
      },
      "outputs": [
        {
          "data": {
            "text/html": [
              "<div>\n",
              "<style scoped>\n",
              "    .dataframe tbody tr th:only-of-type {\n",
              "        vertical-align: middle;\n",
              "    }\n",
              "\n",
              "    .dataframe tbody tr th {\n",
              "        vertical-align: top;\n",
              "    }\n",
              "\n",
              "    .dataframe thead th {\n",
              "        text-align: right;\n",
              "    }\n",
              "</style>\n",
              "<table border=\"1\" class=\"dataframe\">\n",
              "  <thead>\n",
              "    <tr style=\"text-align: right;\">\n",
              "      <th></th>\n",
              "      <th>No</th>\n",
              "      <th>Name</th>\n",
              "      <th>2.Acarbose (AG)</th>\n",
              "      <th>1.Test (AG)</th>\n",
              "      <th>4.Acarbose (AM)</th>\n",
              "      <th>3.Test (AM)</th>\n",
              "    </tr>\n",
              "  </thead>\n",
              "  <tbody>\n",
              "    <tr>\n",
              "      <th>0</th>\n",
              "      <td>159.0</td>\n",
              "      <td>Genistein</td>\n",
              "      <td>2.800000</td>\n",
              "      <td>0.165510</td>\n",
              "      <td>10.0</td>\n",
              "      <td>1.39436</td>\n",
              "    </tr>\n",
              "    <tr>\n",
              "      <th>1</th>\n",
              "      <td>159.0</td>\n",
              "      <td>Genistein</td>\n",
              "      <td>0.590000</td>\n",
              "      <td>642.210000</td>\n",
              "      <td>NaN</td>\n",
              "      <td>NaN</td>\n",
              "    </tr>\n",
              "    <tr>\n",
              "      <th>2</th>\n",
              "      <td>159.0</td>\n",
              "      <td>Genistein</td>\n",
              "      <td>425.000000</td>\n",
              "      <td>29.900000</td>\n",
              "      <td>NaN</td>\n",
              "      <td>NaN</td>\n",
              "    </tr>\n",
              "    <tr>\n",
              "      <th>3</th>\n",
              "      <td>159.0</td>\n",
              "      <td>Genistein</td>\n",
              "      <td>48.043542</td>\n",
              "      <td>3.702979</td>\n",
              "      <td>NaN</td>\n",
              "      <td>NaN</td>\n",
              "    </tr>\n",
              "    <tr>\n",
              "      <th>4</th>\n",
              "      <td>159.0</td>\n",
              "      <td>Genistein</td>\n",
              "      <td>671.400000</td>\n",
              "      <td>257.300000</td>\n",
              "      <td>89.3</td>\n",
              "      <td>110.40000</td>\n",
              "    </tr>\n",
              "    <tr>\n",
              "      <th>5</th>\n",
              "      <td>159.0</td>\n",
              "      <td>Genistein</td>\n",
              "      <td>144.260000</td>\n",
              "      <td>2.370000</td>\n",
              "      <td>NaN</td>\n",
              "      <td>NaN</td>\n",
              "    </tr>\n",
              "    <tr>\n",
              "      <th>6</th>\n",
              "      <td>159.0</td>\n",
              "      <td>Genistein</td>\n",
              "      <td>51.320000</td>\n",
              "      <td>50.050000</td>\n",
              "      <td>NaN</td>\n",
              "      <td>NaN</td>\n",
              "    </tr>\n",
              "    <tr>\n",
              "      <th>7</th>\n",
              "      <td>159.0</td>\n",
              "      <td>Genistein</td>\n",
              "      <td>336.304794</td>\n",
              "      <td>274.020464</td>\n",
              "      <td>NaN</td>\n",
              "      <td>NaN</td>\n",
              "    </tr>\n",
              "    <tr>\n",
              "      <th>8</th>\n",
              "      <td>160.0</td>\n",
              "      <td>Formononetin</td>\n",
              "      <td>2.800000</td>\n",
              "      <td>0.506200</td>\n",
              "      <td>10.0</td>\n",
              "      <td>0.62264</td>\n",
              "    </tr>\n",
              "    <tr>\n",
              "      <th>9</th>\n",
              "      <td>160.0</td>\n",
              "      <td>Formononetin</td>\n",
              "      <td>0.590000</td>\n",
              "      <td>747.830000</td>\n",
              "      <td>NaN</td>\n",
              "      <td>NaN</td>\n",
              "    </tr>\n",
              "    <tr>\n",
              "      <th>10</th>\n",
              "      <td>160.0</td>\n",
              "      <td>Formononetin</td>\n",
              "      <td>382.000000</td>\n",
              "      <td>27.000000</td>\n",
              "      <td>NaN</td>\n",
              "      <td>NaN</td>\n",
              "    </tr>\n",
              "    <tr>\n",
              "      <th>11</th>\n",
              "      <td>161.0</td>\n",
              "      <td>Dalbergioidin</td>\n",
              "      <td>671.400000</td>\n",
              "      <td>412.600000</td>\n",
              "      <td>89.3</td>\n",
              "      <td>162.80000</td>\n",
              "    </tr>\n",
              "    <tr>\n",
              "      <th>12</th>\n",
              "      <td>162.0</td>\n",
              "      <td>Puerarin</td>\n",
              "      <td>124.200000</td>\n",
              "      <td>75.600000</td>\n",
              "      <td>NaN</td>\n",
              "      <td>NaN</td>\n",
              "    </tr>\n",
              "    <tr>\n",
              "      <th>13</th>\n",
              "      <td>162.0</td>\n",
              "      <td>Puerarin</td>\n",
              "      <td>1998.790000</td>\n",
              "      <td>524.080000</td>\n",
              "      <td>NaN</td>\n",
              "      <td>NaN</td>\n",
              "    </tr>\n",
              "    <tr>\n",
              "      <th>14</th>\n",
              "      <td>162.0</td>\n",
              "      <td>Puerarin</td>\n",
              "      <td>NaN</td>\n",
              "      <td>NaN</td>\n",
              "      <td>5.3</td>\n",
              "      <td>394.20000</td>\n",
              "    </tr>\n",
              "    <tr>\n",
              "      <th>15</th>\n",
              "      <td>162.0</td>\n",
              "      <td>Puerarin</td>\n",
              "      <td>785.000000</td>\n",
              "      <td>107.000000</td>\n",
              "      <td>NaN</td>\n",
              "      <td>NaN</td>\n",
              "    </tr>\n",
              "    <tr>\n",
              "      <th>16</th>\n",
              "      <td>162.0</td>\n",
              "      <td>Puerarin</td>\n",
              "      <td>144.260000</td>\n",
              "      <td>147.300000</td>\n",
              "      <td>NaN</td>\n",
              "      <td>NaN</td>\n",
              "    </tr>\n",
              "    <tr>\n",
              "      <th>17</th>\n",
              "      <td>162.0</td>\n",
              "      <td>Puerarin</td>\n",
              "      <td>175.840000</td>\n",
              "      <td>195.550000</td>\n",
              "      <td>NaN</td>\n",
              "      <td>NaN</td>\n",
              "    </tr>\n",
              "  </tbody>\n",
              "</table>\n",
              "</div>"
            ],
            "text/plain": [
              "       No           Name  2.Acarbose (AG)  1.Test (AG)  4.Acarbose (AM)  \\\n",
              "0   159.0      Genistein         2.800000     0.165510             10.0   \n",
              "1   159.0      Genistein         0.590000   642.210000              NaN   \n",
              "2   159.0      Genistein       425.000000    29.900000              NaN   \n",
              "3   159.0      Genistein        48.043542     3.702979              NaN   \n",
              "4   159.0      Genistein       671.400000   257.300000             89.3   \n",
              "5   159.0      Genistein       144.260000     2.370000              NaN   \n",
              "6   159.0      Genistein        51.320000    50.050000              NaN   \n",
              "7   159.0      Genistein       336.304794   274.020464              NaN   \n",
              "8   160.0   Formononetin         2.800000     0.506200             10.0   \n",
              "9   160.0   Formononetin         0.590000   747.830000              NaN   \n",
              "10  160.0   Formononetin       382.000000    27.000000              NaN   \n",
              "11  161.0  Dalbergioidin       671.400000   412.600000             89.3   \n",
              "12  162.0       Puerarin       124.200000    75.600000              NaN   \n",
              "13  162.0       Puerarin      1998.790000   524.080000              NaN   \n",
              "14  162.0       Puerarin              NaN          NaN              5.3   \n",
              "15  162.0       Puerarin       785.000000   107.000000              NaN   \n",
              "16  162.0       Puerarin       144.260000   147.300000              NaN   \n",
              "17  162.0       Puerarin       175.840000   195.550000              NaN   \n",
              "\n",
              "    3.Test (AM)  \n",
              "0       1.39436  \n",
              "1           NaN  \n",
              "2           NaN  \n",
              "3           NaN  \n",
              "4     110.40000  \n",
              "5           NaN  \n",
              "6           NaN  \n",
              "7           NaN  \n",
              "8       0.62264  \n",
              "9           NaN  \n",
              "10          NaN  \n",
              "11    162.80000  \n",
              "12          NaN  \n",
              "13          NaN  \n",
              "14    394.20000  \n",
              "15          NaN  \n",
              "16          NaN  \n",
              "17          NaN  "
            ]
          },
          "execution_count": 41,
          "metadata": {},
          "output_type": "execute_result"
        }
      ],
      "source": [
        "df['Name'] = df['Name'].fillna(method='ffill')\n",
        "df['No'] = df['No'].fillna(method='ffill')\n",
        "df.head(25)"
      ]
    },
    {
      "cell_type": "markdown",
      "metadata": {
        "id": "w5JDNr6H5UYX"
      },
      "source": [
        "# Melt"
      ]
    },
    {
      "cell_type": "code",
      "execution_count": 42,
      "metadata": {
        "id": "BT65E7mo5VrW"
      },
      "outputs": [],
      "source": [
        "df_melted = df.melt(id_vars=['No','Name'], value_vars=['2.Acarbose (AG)', '1.Test (AG)', '4.Acarbose (AM)', '3.Test (AM)'])"
      ]
    },
    {
      "cell_type": "code",
      "execution_count": 43,
      "metadata": {
        "colab": {
          "base_uri": "https://localhost:8080/",
          "height": 424
        },
        "id": "smm8GczB6YkZ",
        "outputId": "a4664089-c49d-400a-8596-c6df8e0edce9"
      },
      "outputs": [
        {
          "name": "stdout",
          "output_type": "stream",
          "text": [
            "<class 'pandas.core.frame.DataFrame'>\n",
            "Int64Index: 44 entries, 0 to 68\n",
            "Data columns (total 4 columns):\n",
            " #   Column    Non-Null Count  Dtype  \n",
            "---  ------    --------------  -----  \n",
            " 0   No        44 non-null     float64\n",
            " 1   Name      44 non-null     object \n",
            " 2   variable  44 non-null     object \n",
            " 3   value     44 non-null     float64\n",
            "dtypes: float64(2), object(2)\n",
            "memory usage: 1.7+ KB\n"
          ]
        }
      ],
      "source": [
        "df_melted.dropna(inplace = True)\n",
        "df_melted.info()"
      ]
    },
    {
      "cell_type": "code",
      "execution_count": 44,
      "metadata": {
        "colab": {
          "base_uri": "https://localhost:8080/",
          "height": 206
        },
        "id": "IPfUrs5yPbis",
        "outputId": "6fb03ba4-ae60-4452-a2cc-b56f23fff073"
      },
      "outputs": [
        {
          "data": {
            "text/html": [
              "<div>\n",
              "<style scoped>\n",
              "    .dataframe tbody tr th:only-of-type {\n",
              "        vertical-align: middle;\n",
              "    }\n",
              "\n",
              "    .dataframe tbody tr th {\n",
              "        vertical-align: top;\n",
              "    }\n",
              "\n",
              "    .dataframe thead th {\n",
              "        text-align: right;\n",
              "    }\n",
              "</style>\n",
              "<table border=\"1\" class=\"dataframe\">\n",
              "  <thead>\n",
              "    <tr style=\"text-align: right;\">\n",
              "      <th></th>\n",
              "      <th>No</th>\n",
              "      <th>Name</th>\n",
              "      <th>variable</th>\n",
              "      <th>log</th>\n",
              "    </tr>\n",
              "  </thead>\n",
              "  <tbody>\n",
              "    <tr>\n",
              "      <th>0</th>\n",
              "      <td>159.0</td>\n",
              "      <td>Genistein</td>\n",
              "      <td>2.Acarbose (AG)</td>\n",
              "      <td>5.552842</td>\n",
              "    </tr>\n",
              "    <tr>\n",
              "      <th>1</th>\n",
              "      <td>159.0</td>\n",
              "      <td>Genistein</td>\n",
              "      <td>2.Acarbose (AG)</td>\n",
              "      <td>6.229148</td>\n",
              "    </tr>\n",
              "    <tr>\n",
              "      <th>2</th>\n",
              "      <td>159.0</td>\n",
              "      <td>Genistein</td>\n",
              "      <td>2.Acarbose (AG)</td>\n",
              "      <td>3.371611</td>\n",
              "    </tr>\n",
              "    <tr>\n",
              "      <th>3</th>\n",
              "      <td>159.0</td>\n",
              "      <td>Genistein</td>\n",
              "      <td>2.Acarbose (AG)</td>\n",
              "      <td>4.318365</td>\n",
              "    </tr>\n",
              "    <tr>\n",
              "      <th>4</th>\n",
              "      <td>159.0</td>\n",
              "      <td>Genistein</td>\n",
              "      <td>2.Acarbose (AG)</td>\n",
              "      <td>3.173019</td>\n",
              "    </tr>\n",
              "  </tbody>\n",
              "</table>\n",
              "</div>"
            ],
            "text/plain": [
              "      No       Name         variable       log\n",
              "0  159.0  Genistein  2.Acarbose (AG)  5.552842\n",
              "1  159.0  Genistein  2.Acarbose (AG)  6.229148\n",
              "2  159.0  Genistein  2.Acarbose (AG)  3.371611\n",
              "3  159.0  Genistein  2.Acarbose (AG)  4.318365\n",
              "4  159.0  Genistein  2.Acarbose (AG)  3.173019"
            ]
          },
          "execution_count": 44,
          "metadata": {},
          "output_type": "execute_result"
        }
      ],
      "source": [
        "df_melted['real_value'] = df_melted['value']*(10**(-6))\n",
        "df_melted['log'] = df_melted['real_value'].apply(lambda x: -np.log10(x)) \n",
        "df_melted.drop('value', inplace=True, axis=1)\n",
        "df_melted.drop('real_value', inplace=True, axis=1)\n",
        "df_melted.head()"
      ]
    },
    {
      "cell_type": "code",
      "execution_count": 45,
      "metadata": {},
      "outputs": [],
      "source": [
        "def q25(x):\n",
        "    return x.quantile(0.25)\n",
        "\n",
        "\n",
        "def q75(x):\n",
        "    return x.quantile(0.75)"
      ]
    },
    {
      "cell_type": "code",
      "execution_count": 46,
      "metadata": {},
      "outputs": [],
      "source": [
        "df_result=df_melted.groupby(['No','Name','variable']).agg({'log':[np.median,'count',q25,q75]})\n"
      ]
    },
    {
      "cell_type": "code",
      "execution_count": 47,
      "metadata": {},
      "outputs": [],
      "source": [
        "df_result.to_excel('Isoflavonoid.xlsx')"
      ]
    }
  ],
  "metadata": {
    "colab": {
      "collapsed_sections": [],
      "provenance": []
    },
    "kernelspec": {
      "display_name": "Python 3.9.12 ('ML')",
      "language": "python",
      "name": "python3"
    },
    "language_info": {
      "codemirror_mode": {
        "name": "ipython",
        "version": 3
      },
      "file_extension": ".py",
      "mimetype": "text/x-python",
      "name": "python",
      "nbconvert_exporter": "python",
      "pygments_lexer": "ipython3",
      "version": "3.10.4"
    },
    "vscode": {
      "interpreter": {
        "hash": "8809126b2e3f6bd67afd8dec0aaf136102c3339cf179547b748c69a78a732e29"
      }
    }
  },
  "nbformat": 4,
  "nbformat_minor": 0
}
