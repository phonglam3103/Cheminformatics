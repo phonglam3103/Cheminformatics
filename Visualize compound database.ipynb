{
  "cells": [
    {
      "cell_type": "markdown",
      "metadata": {
        "id": "view-in-github",
        "colab_type": "text"
      },
      "source": [
        "<a href=\"https://colab.research.google.com/github/phonglam3103/Cheminformatics/blob/main/Visualize%20compound%20database.ipynb\" target=\"_parent\"><img src=\"https://colab.research.google.com/assets/colab-badge.svg\" alt=\"Open In Colab\"/></a>"
      ]
    },
    {
      "cell_type": "markdown",
      "metadata": {
        "id": "PsCvZ8I8axoX"
      },
      "source": [
        "This script will take the input from your csv file, in which the SMILES of the compounds are stored in the **\"SMILES\"** column. The file can be in the comma-separated or space-separated format."
      ]
    },
    {
      "cell_type": "code",
      "execution_count": null,
      "metadata": {
        "colab": {
          "base_uri": "https://localhost:8080/"
        },
        "id": "Ga5_CqPaVIbX",
        "outputId": "a75a3b98-5914-4320-8d5e-f4ddf84b953f",
        "cellView": "form"
      },
      "outputs": [
        {
          "output_type": "stream",
          "name": "stdout",
          "text": [
            "Collecting rdkit\n",
            "  Downloading rdkit-2024.3.5-cp310-cp310-manylinux_2_28_x86_64.whl.metadata (3.9 kB)\n",
            "Collecting XlsxWriter\n",
            "  Downloading XlsxWriter-3.2.0-py3-none-any.whl.metadata (2.6 kB)\n",
            "Requirement already satisfied: numpy in /usr/local/lib/python3.10/dist-packages (from rdkit) (1.26.4)\n",
            "Requirement already satisfied: Pillow in /usr/local/lib/python3.10/dist-packages (from rdkit) (10.4.0)\n",
            "Downloading rdkit-2024.3.5-cp310-cp310-manylinux_2_28_x86_64.whl (33.1 MB)\n",
            "\u001b[2K   \u001b[90m━━━━━━━━━━━━━━━━━━━━━━━━━━━━━━━━━━━━━━━━\u001b[0m \u001b[32m33.1/33.1 MB\u001b[0m \u001b[31m26.4 MB/s\u001b[0m eta \u001b[36m0:00:00\u001b[0m\n",
            "\u001b[?25hDownloading XlsxWriter-3.2.0-py3-none-any.whl (159 kB)\n",
            "\u001b[2K   \u001b[90m━━━━━━━━━━━━━━━━━━━━━━━━━━━━━━━━━━━━━━━━\u001b[0m \u001b[32m159.9/159.9 kB\u001b[0m \u001b[31m4.5 MB/s\u001b[0m eta \u001b[36m0:00:00\u001b[0m\n",
            "\u001b[?25hInstalling collected packages: XlsxWriter, rdkit\n"
          ]
        }
      ],
      "source": [
        "# @title Install prerequisite rdkit, XlsxWriter, STOUT\n",
        "%pip install rdkit  XlsxWriter"
      ]
    },
    {
      "cell_type": "code",
      "execution_count": null,
      "metadata": {
        "cellView": "form",
        "id": "GJapxA_7cAAN"
      },
      "outputs": [],
      "source": [
        "# @title Data import\n",
        "from google.colab import drive, files\n",
        "import pandas as pd\n",
        "from rdkit import Chem\n",
        "from rdkit.Chem import Draw, PandasTools\n",
        "from IPython.display import HTML, display\n",
        "from rdkit.Chem.rdmolfiles import MolFromSmiles\n",
        "from rdkit.Chem.MolStandardize import rdMolStandardize\n",
        "\n",
        "\n",
        "# Data input\n",
        "print(\"Upload csv file containing the SMILES column\")\n",
        "uploaded = files.upload()\n"
      ]
    },
    {
      "cell_type": "code",
      "execution_count": null,
      "metadata": {
        "id": "iy8TSEsc5KHp",
        "cellView": "form"
      },
      "outputs": [],
      "source": [
        "# @title Input and visuallize the compounds\n",
        "\n",
        "with open(list(uploaded.keys())[0], 'r') as f:\n",
        "    firstline = f.readline()\n",
        "\n",
        "if 'SMILES' not in firstline:\n",
        "  print('Please ensure that the file has the header and the header has the name \"SMILES\"')\n",
        "  raise SystemExit(0)\n",
        "if ',' in firstline:\n",
        "  df = pd.read_csv(list(uploaded.keys())[0])\n",
        "else: df = pd.read_csv(list(uploaded.keys())[0], sep=r'\\s+')\n",
        "PandasTools.AddMoleculeColumnToFrame(df, 'SMILES', 'Molecule')\n",
        "PandasTools.SaveXlsxFromFrame(df, 'SMILES_processed.xlsx', molCol='Molecule')"
      ]
    },
    {
      "cell_type": "markdown",
      "metadata": {
        "id": "rjDhAjBBGh7V"
      },
      "source": [
        "The output file is available as **'SMILES_processed.xlsx'** to the left panel. You can also visuallize it in the next chunk."
      ]
    },
    {
      "cell_type": "code",
      "execution_count": null,
      "metadata": {
        "colab": {
          "background_save": true
        },
        "id": "MaxWO1qxfQDH",
        "cellView": "form"
      },
      "outputs": [],
      "source": [
        "# @title Visualize the database here\n",
        "pd.set_option('display.max_rows', None)\n",
        "df"
      ]
    },
    {
      "cell_type": "code",
      "execution_count": null,
      "metadata": {
        "id": "uzrpQJdYG5qa"
      },
      "outputs": [],
      "source": []
    }
  ],
  "metadata": {
    "colab": {
      "provenance": [],
      "mount_file_id": "1qzLE-Fj3CRnJC-OtdZEnxMGtDRT9ST-r",
      "authorship_tag": "ABX9TyMj8Vz2JIYSvUHqGUocjn0t",
      "include_colab_link": true
    },
    "kernelspec": {
      "display_name": "Python 3",
      "name": "python3"
    },
    "language_info": {
      "name": "python"
    }
  },
  "nbformat": 4,
  "nbformat_minor": 0
}